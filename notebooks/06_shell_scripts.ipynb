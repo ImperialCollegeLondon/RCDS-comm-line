{
 "cells": [
  {
   "cell_type": "markdown",
   "metadata": {},
   "source": [
    "# Episode 6 - Shell scripts\n",
    "This notebook is based on a snapshot of [Episode 6]() of the [Unix Shell lesson](https://kmichali.github.io/SC-shell-novice/06-script/index.html) from the [Software Carpentry](https://software-carpentry.org). The original material has more detail.\n",
    "\n",
    "### Questions:\n",
    "- How can I save and re-use commands?\n",
    "\n",
    "### Objectives:\n",
    "- Write a shell script that runs a command or series of commands for a fixed set of files.\n",
    "- Run a shell script from the command line.\n",
    "- Write a shell script that operates on a set of files defined by the user on the command line.\n",
    "\n",
    "<hr style=\"border: solid 1px red; margin-top: 1.5% \">\n",
    "\n",
    "### Video\n",
    "Learn with video:\n",
    "- [part 1](https://imperial.cloud.panopto.eu/Panopto/Pages/Viewer.aspx?id=b61968f6-3bb1-4b41-898c-abd800bce5f0)\n",
    "- [part 2](https://imperial.cloud.panopto.eu/Panopto/Pages/Viewer.aspx?id=7bca90d9-84fd-4849-a682-abd800c10869)\n",
    "\n",
    "### Practice data in Google Colab\n",
    "If you are viewing this notebook in Colab and have saved it in your Drive (\"File\"->\"Save a copy in Drive\"), run the cell below to download practice data."
   ]
  },
  {
   "cell_type": "code",
   "execution_count": null,
   "metadata": {},
   "outputs": [],
   "source": [
    "%%bash\n",
    "[ -e data-shell ] && echo \"data already exists\" || { wget https://kmichali.github.io/SC-shell-novice/data/data-shell.zip; unzip data-shell.zip; } "
   ]
  },
  {
   "cell_type": "markdown",
   "metadata": {},
   "source": [
    "<hr style=\"border: solid 1px red; margin-top: 1.5% \">"
   ]
  },
  {
   "cell_type": "markdown",
   "metadata": {},
   "source": [
    "We are finally ready to see what makes the shell such a powerful programming environment. We are going to take the commands we repeat frequently and save them in files so that we can re-run all those operations again later by typing a single command. A list of commands saved in a file is usually called a **shell script**."
   ]
  },
  {
   "cell_type": "markdown",
   "metadata": {},
   "source": [
    "## Let's use the shell\n",
    "<hr style=\"border: solid 1px gray; margin-top: 1.5% \">\n",
    "\n",
    "For this lesson, we will move to the command line.  Practising shell scripts that are the most powerful feature of the command line in notebooks may result in incomplete appreciation of the power of the shell.  \n",
    "\n",
    "To open an instance of the shell, you can either:\n",
    "- open the Terminal application on Mac or Linux\n",
    "- on Windows, you can either use [Windows subsystem for Linux](https://www.howtogeek.com/249966/how-to-install-and-use-the-linux-bash-shell-on-windows-10/) or take advantage of the in-built shell in [Git for Windows](https://gitforwindows.org)\n",
    "- you can also use Terminal in Anaconda and run it alongside this notebook; from the Anaconda home page (the page with directory listings), select New->Terminal (top left)\n"
   ]
  },
  {
   "cell_type": "markdown",
   "metadata": {},
   "source": [
    "## Tips and tricks\n",
    "<hr style=\"border: solid 1px gray; margin-top: 1.5% \">\n",
    "\n",
    "This few tricks are going to make your shell experience a bit easier:\n",
    "- to cancel a command (either after you just typed it or if it is already running), press Ctrl+c\n",
    "- use up and down arrow keys to recall commands that you used previously\n",
    "- use the **`history`** command to recall all commands that have been executed since the shell was opened\n",
    "- use Ctrl+l (lower-case L) or the command **`clear`** to remove all content in the terminal (apart from the prompt)\n",
    "- use **`TAB`** key to auto-complete command and file names will save you lots of typing; for example if your directory contains a file \"chapter1.txt\", type \"c\" and press **`TAB`**:\n",
    "   - if there are no other files that start with \"c\", the shell will complete the name to \"chapter1.txt\"\n",
    "   - if another file start with \"c\", typing **`TAB`** will produce no result, if you press **`TAB`** again, you will see all files matching \"c\", in this case type a few more characters and press **`TAB`** again\n",
    "- **`TAB`** will also auto-complete file paths, this is a good sanity check, it the path auto-completes, it exists on the system\n"
   ]
  },
  {
   "cell_type": "markdown",
   "metadata": {},
   "source": [
    "## Change directory to data-shell/molecules\n",
    "<hr style=\"border: solid 1px gray; margin-top: 1.5% \">\n",
    "\n",
    "By now, you should have downloaded the lesson data on your computer. This can be done either by running the first cell of this notebook (needs wget utility) or [manually](https://kmichali.github.io/SC-shell-novice/data/data-shell.zip).\n",
    "\n",
    "\n",
    "When you open a terminal, it is likely that your current working directory is your home directory.  Use **`cd`** to navigate to **`some_directory_in_your_filesystem/GS_comm_line/notebooks/data-shell/molecules/`**.  If you are not sure, use your Finder or File Explorer to locate the molecules directory and to deduce the correct path from your home directory.\n",
    "\n",
    "If you downloaded the lesson GitHub repository to your home directory, you should be able to use the following command:\n",
    "\n",
    "```\n",
    "cd GS_comm_line/notebooks/data-shell/molecules\n",
    "\n",
    "```\n",
    "Check with **`pwd`** if you are in the right place."
   ]
  },
  {
   "cell_type": "markdown",
   "metadata": {},
   "source": [
    "## Learn to use a simple text editor to write shell scripts\n",
    "<hr style=\"border: solid 1px gray; margin-top: 1.5% \">\n",
    "\n",
    "We have to use a text editor to crate a text file that will become our shell script.  Some of you may already have used other editors such as **`emacs`** or **`vim`**.  If you are comfortable with them, keep using them. If you have never used a command line text editor, **`nano`** is a good start.\n",
    "\n",
    "**`Nano`**, which is used directly from the command line, will come handy when you need to edit a file on a remote system. On your laptop, you have a choice.  You can use a graphical programs such as Notepad or programmer's editors (Atom, VSCode etc.). Make sure that you save your script in a simple text format, other formats will include characters that the shell cannot interpret.\n",
    "\n",
    "Let's learn to use nano to write a simple shell script.  In your terminal, type \n",
    "\n",
    "```\n",
    "nano middle.sh\n",
    "\n",
    "```\n",
    "You will be faced with a simple text editor.\n",
    "\n",
    "![Nano](../fig/nano.png)\n",
    "\n",
    "As you can see, this editor is very basic.  You can write text, navigate around with arrow keys, save and exit. Enough to write a small shell script.\n",
    "\n",
    "In nano, type the line below:\n",
    "\n",
    "```\n",
    "head -n 15 octane.pdb | tail -n 5\n",
    "\n",
    "```\n",
    "\n",
    "![Nano with a command](../fig/nano2.png)\n",
    "\n",
    "Make sure that you press Enter to finish the script with an empty line.  \n",
    "\n",
    "You are ready to save and exit nano.  **To save**, press Ctrl+o and Enter.  **To exit nano**, press Ctrl+x.\n",
    "\n",
    "You should get the prompt back.  Check with **`cat middle.sh`** to see if the file is correct.\n"
   ]
  },
  {
   "cell_type": "code",
   "execution_count": null,
   "metadata": {},
   "outputs": [],
   "source": [
    "%%bash\n",
    "cat middle.sh"
   ]
  },
  {
   "cell_type": "markdown",
   "metadata": {},
   "source": [
    "## Run your first shell script\n",
    "<hr style=\"border: solid 1px gray; margin-top: 1.5% \">\n",
    "\n",
    "The file **`middle.sh`** is a shell script.  It is a good convention to give your shell scripts an extention \"sh\" (for \"shell\"). \n",
    "\n",
    "Now, you are ready to execute (or to run) the script.  You can do this on the command line by typing:\n",
    "\n",
    "```\n",
    "bash middle.sh\n",
    "```\n",
    "\n",
    "**`Bash`** is a program that interprets the shell script.\n",
    "\n",
    "On the screen, you should see an output from the script; in our case an output to **`head -n 15 octane.pdb | tail -n 5`** (or lines 10 to 15 from the file octane.pdb):\n",
    "\n",
    "```\n",
    "ATOM      9  H           1      -4.502   0.681   0.785  1.00  0.00\n",
    "ATOM     10  H           1      -5.254  -0.243  -0.537  1.00  0.00\n",
    "ATOM     11  H           1      -4.357   1.252  -0.895  1.00  0.00\n",
    "ATOM     12  H           1      -3.009  -0.741  -1.467  1.00  0.00\n",
    "ATOM     13  H           1      -3.172  -1.337   0.206  1.00  0.00\n",
    "\n",
    "```\n",
    "\n",
    "If your script contained more commands, you would see outputs from all of them.\n",
    "\n",
    "*Note: If you are using Jupyter Notebooks on the same system as your shell (not in Google Colab), you can also run the script from this notebook in the cell below (do not forget to change the current working directory first).  You cannot, however, use **`nano`** in this notebook.*"
   ]
  },
  {
   "cell_type": "code",
   "execution_count": null,
   "metadata": {},
   "outputs": [],
   "source": [
    "%%bash\n",
    "pwd"
   ]
  },
  {
   "cell_type": "code",
   "execution_count": null,
   "metadata": {},
   "outputs": [],
   "source": [
    "cd data-shell/molecules/"
   ]
  },
  {
   "cell_type": "code",
   "execution_count": null,
   "metadata": {},
   "outputs": [],
   "source": [
    "%%bash\n",
    "#this will only work if you created the file middle.sh on the same system\n",
    "bash middle.sh"
   ]
  },
  {
   "cell_type": "markdown",
   "metadata": {},
   "source": [
    "## Making your scripts more useful by passing arguments from the command line\n",
    "<hr style=\"border: solid 1px gray; margin-top: 1.5% \">\n",
    "\n",
    "Our script is not very useful. If operates only on one file - **`octane.pdb`**.  It would be more useful if we could choose the filename when we execute the script.  The filename would be an argument to **`middle.sh`** and the execute command would look like this:\n",
    "\n",
    "```\n",
    "bash middle.sh cubane.pdb\n",
    "```\n",
    "\n",
    "The above command would **pass the argument** (cubane.pdb) **from the command line to the shell script**.  Being able to choose the input data on the command line (instead of the script always operating on the same data) is what makes scripts powerful. The same principle applies for other programs, you would reuse one scientific software package on multiple data files.\n",
    "\n",
    "For this to work, we have to make a small change to the script.  Open nano again with **`nano middle.sh`** and change the script to:\n",
    "\n",
    "```\n",
    "head -n 15 $1 | tail -n 5\n",
    "echo $1\n",
    "\n",
    "```\n",
    "\n",
    "**\"$1\"** means \"use the first argument from the command line\", in our case \"cubane.pdb\". I also added **`echo $1`** on the second line, so the script prints the input filename.\n",
    "\n",
    "Make the change to middle.sh and run your script with: \n",
    "\n",
    "```\n",
    "bash middle.sh cubane.pdb\n",
    "```\n",
    "\n",
    "You should see the following output:\n",
    "\n",
    "```\n",
    "ATOM      9  H           1       1.410  -1.631   0.942  1.00  0.00\n",
    "ATOM     10  H           1      -0.262  -2.112  -1.024  1.00  0.00\n",
    "ATOM     11  H           1      -2.224  -0.925   0.328  1.00  0.00\n",
    "ATOM     12  H           1      -0.468  -0.501   2.315  1.00  0.00\n",
    "ATOM     13  H           1       2.224   0.892  -0.134  1.00  0.00\n",
    "cubane.pdb\n",
    "```\n",
    "\n",
    "You can run the script with other filenames, the output should change."
   ]
  },
  {
   "cell_type": "markdown",
   "metadata": {},
   "source": [
    "## Positional arguments\n",
    "<hr style=\"border: solid 1px gray; margin-top: 1.5% \">\n",
    "\n",
    "\"\\\\$1\" is called a positional argument - the first one behind the script name on the command line.  You may have guessed that \"\\\\$2\" will mean the second argument on the command line and so on.  If you get to the tenth argument and above, make sure that you use \"\\${10}\" with curly braces so it is very clear that both, 1 and 0 belong to the name.\n",
    "\n",
    "Positional arguments are variables and one must use \"$\" in the name.  You may recall that we met our first variable in Episode 5 - Loops.\n",
    "\n",
    "There are two more positional arguments that you may need:\n",
    "- \\$@ holds all arguments in one variable (this will be important when we try to use wildcards as command line arguments)\n",
    "- \\$\\# holds the total number of arguments to the script (useful when you want to check if the script was executed with the correct number of arguments)\n",
    "\n",
    "\n",
    "\n"
   ]
  },
  {
   "cell_type": "markdown",
   "metadata": {},
   "source": [
    "## Comments\n",
    "<hr style=\"border: solid 1px gray; margin-top: 1.5% \">\n",
    "\n",
    "It is a good practice to add comments to our scripts to describe what the script is intended to do.  Comments will be handy if you want to share your scripts with a colleague or if you pick your script a few month later after you forgot what it was supposed to do.  \n",
    "\n",
    "Comments are lines in your script that start with \"\\#\".  These lines are not executed. \n",
    "\n",
    "Our script can be commented as shown below.  Comments are personal and you may find that you want to use your own wording.  However, the second argument that explains how to run the script is fairly standard.\n",
    "\n",
    "```\n",
    "# this script shows lines 10 to 15 from a file\n",
    "# usage: bash middle.sh filename\n",
    "head -n 15 $1 | tail -n 5\n",
    "echo $1\n",
    "```"
   ]
  },
  {
   "cell_type": "markdown",
   "metadata": {},
   "source": [
    "## Exercise 1 - Modify middle.sh so one can choose the line range\n",
    "<hr style=\"border: solid 1px gray; margin-top: 1.5% \">\n",
    "\n",
    "Open middle.sh with nano and change it so we can select the line range that the script will display. Do not forget to change the comments accordingly.  Once you modify the script, use the right command to run it.  \n",
    "\n",
    "What happens if one forgets to use all argumengts?\n",
    "\n",
    "If you need a bit of help, the solution is one the bottom of the notebook."
   ]
  },
  {
   "cell_type": "markdown",
   "metadata": {},
   "source": [
    "## Using wildcards as arguments\n",
    "<hr style=\"border: solid 1px gray; margin-top: 1.5% \">\n",
    "\n",
    "You may recall that, if you use a wildcard in a command, the first thing that happens after you press **`Enter`** is that the shell expands the wildcard into a list of files that match it.  \n",
    "\n",
    "This means that, if you use a wildcard in an argument to a shell script, you may end up with an unknown number of arguments that are being passed to the script.  That makes using positional arguments hard to use.  Consider the following example:\n"
   ]
  },
  {
   "cell_type": "markdown",
   "metadata": {},
   "source": [
    "## Wildcard gone wrong\n",
    "<hr style=\"border: solid 1px gray; margin-top: 1.5% \">\n",
    "\n",
    "The script **`sorted.sh`**:\n",
    "\n",
    "```\n",
    "# this script counts number of lines in pdb files and sorts the output numerically\n",
    "wc -l *.pdb | sort -n\n",
    "```\n",
    "\n",
    "To be able to execute with any file type, one would be tempted to modify as follows:\n",
    "\n",
    "```\n",
    "# this script counts number of lines in a file type and sorts the output numerically\n",
    "wc -l $1 | sort -n\n",
    "```\n",
    "Execute with:\n",
    "\n",
    "```\n",
    "bash sorted.sh *.pdb\n",
    "```\n",
    "\n",
    "The script does not return what we expected:\n",
    "\n",
    "```\n",
    "20 cubane.pdb\n",
    "```\n",
    "\n",
    "That is because of the wildcard.  The shell expanded **`*.pdb`** before sorted.sh was executed, the command that was run was **`bash sorted.sh cubane.pdb ethane.pdb methane.pdb octane.pdb pentane.pdb propane.pdb`**. Because the we used \"$1\" in the script, we ended up counting lines for cubane.pdb only.\n"
   ]
  },
  {
   "cell_type": "markdown",
   "metadata": {},
   "source": [
    "## Correct use of a wildcard as an argument\n",
    "<hr style=\"border: solid 1px gray; margin-top: 1.5% \">\n",
    "\n",
    "Since we cannot predict how many arguments we get after the wildcard is expanded, we have to use the \"$@\" variable that stands for \"take all of the command line arguments to the script\".\n",
    "\n",
    "The script:\n",
    "```\n",
    "# this script counts number of lines in a file type and sorts the output numerically\n",
    "wc -l $@ | sort -n\n",
    "```\n",
    "\n",
    "Execute with:\n",
    "\n",
    "```\n",
    "bash sorted.sh *.pdb\n",
    "```\n",
    "\n",
    "The output is now correct:\n",
    "\n",
    "```\n",
    " 9 methane.pdb\n",
    " 12 ethane.pdb\n",
    " 15 propane.pdb\n",
    " 20 cubane.pdb\n",
    " 21 pentane.pdb\n",
    " 30 octane.pdb\n",
    " 107 total\n",
    "```\n",
    "\n",
    "In fact, we run the script with different file types and it will work.\n",
    "\n",
    "```\n",
    "bash sorted.sh *.pdb *.sh\n",
    "```\n",
    "\n",
    "The output: \n",
    "\n",
    "```\n",
    " 3 sorted.sh\n",
    " 4 middle.sh\n",
    " 9 methane.pdb\n",
    " 12 ethane.pdb\n",
    " 15 propane.pdb\n",
    " 20 cubane.pdb\n",
    " 21 pentane.pdb\n",
    " 30 octane.pdb\n",
    " 114 total\n",
    "```"
   ]
  },
  {
   "cell_type": "markdown",
   "metadata": {},
   "source": [
    "<hr style=\"border: solid 1px red; margin-top: 1.5% \">\n",
    "\n",
    "## Key points\n",
    "\n",
    "- Save commands in files (usually called shell scripts) for re-use.\n",
    "- **`bash filename`** runs the commands saved in a file.\n",
    "- **`$@`** refers to all of a shell script’s command-line arguments.\n",
    "- **`$1`**, **`$2`**, etc., refer to the first command-line argument, the second command-line argument, etc.\n",
    "- Letting users decide what files to process is more flexible and more consistent with built-in Unix commands."
   ]
  },
  {
   "cell_type": "markdown",
   "metadata": {},
   "source": [
    "<hr style=\"border: solid 1px gray; margin-top: 1.5% \">\n",
    "\n",
    "## Solution to Exercise 1\n",
    "\n",
    "One way to adapt the script:\n",
    "\n",
    "```\n",
    "# this script outputs a range of lines from a file\n",
    "# usage: bash middle.sh filename end_line total_lines\n",
    "head -n $2 $1 | tail -n $3\n",
    "echo $1\n",
    "```\n",
    "The corresponding command would be:\n",
    "\n",
    "```\n",
    "bash middle.sh cubane.pdb 10 4\n",
    "```\n",
    "\n",
    "The output would be:\n",
    "\n",
    "```\n",
    "ATOM      5  C           1       1.203   0.513  -0.094  1.00  0.00\n",
    "ATOM      6  C           1       0.099   1.184   0.694  1.00  0.00\n",
    "ATOM      7  C           1      -0.885   0.959  -0.460  1.00  0.00\n",
    "ATOM      8  C           1       0.236   0.283  -1.269  1.00  0.00\n",
    "cubane.pdb\n",
    "```\n",
    "\n",
    "If you forget any argument, some commands in the script are likely to fail because they did not receive an argument or  received an unexpected one (e.g., a text instead of a number)\n",
    "\n",
    "For example, if one forgets the last number when calling middle.sh, the tail command in the script ends up looking like **`tail -n `** instead of **`tail -n 4`** and will result in an error message.\n",
    "\n",
    "Incomplete command:\n",
    "\n",
    "```\n",
    "bash middle.sh cubane.pdb 10\n",
    "```\n",
    "\n",
    "Error message:\n",
    "\n",
    "```\n",
    "tail: option requires an argument -- n\n",
    "usage: tail [-F | -f | -r] [-q] [-b # | -c # | -n #] [file ...]\n",
    "cubane.pdb\n",
    "```"
   ]
  },
  {
   "cell_type": "code",
   "execution_count": null,
   "metadata": {},
   "outputs": [],
   "source": []
  }
 ],
 "metadata": {
  "kernelspec": {
   "display_name": "Python 3",
   "language": "python",
   "name": "python3"
  },
  "language_info": {
   "codemirror_mode": {
    "name": "ipython",
    "version": 3
   },
   "file_extension": ".py",
   "mimetype": "text/x-python",
   "name": "python",
   "nbconvert_exporter": "python",
   "pygments_lexer": "ipython3",
   "version": "3.7.6"
  }
 },
 "nbformat": 4,
 "nbformat_minor": 2
}
