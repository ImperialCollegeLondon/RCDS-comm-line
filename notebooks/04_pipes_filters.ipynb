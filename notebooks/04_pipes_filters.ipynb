{
 "cells": [
  {
   "cell_type": "markdown",
   "metadata": {},
   "source": [
    "# Episode 4 - Pipes and filters\n",
    "This notebook is based on a snapshot of [Episode 4](https://kmichali.github.io/SC-shell-novice/04-pipefilter/index.html) of the [Unix Shell lesson](https://kmichali.github.io/SC-shell-novice/) from the [Software Carpentry](https://software-carpentry.org). The original material has more detail.\n",
    "\n",
    "### Questions:\n",
    "- How can I combine existing commands to do new things?\n",
    "\n",
    "### Objectives:\n",
    "- Redirect a command’s output to a file.\n",
    "- Construct command pipelines with two or more stages.\n",
    "- Explain Unix’s ‘small pieces, loosely joined’ philosophy.\n",
    "\n",
    "<hr style=\"border: solid 1px red; margin-top: 1.5% \">\n",
    "\n",
    "### Video\n",
    "Learn with video:\n",
    "- [part 1](https://imperial.cloud.panopto.eu/Panopto/Pages/Viewer.aspx?id=0c667489-536e-40f0-9b1a-abd600d1e737)\n",
    "- [part 2](https://imperial.cloud.panopto.eu/Panopto/Pages/Viewer.aspx?id=5de519db-bffd-46d5-a5fd-abd600d6017f)\n",
    "\n",
    "\n",
    "### Practice data in Google Colab\n",
    "If you are viewing this notebook in Colab and have saved it in your Drive (\"File\"->\"Save a copy in Drive\"), run the cell below to download practice data."
   ]
  },
  {
   "cell_type": "code",
   "execution_count": null,
   "metadata": {},
   "outputs": [],
   "source": [
    "%%bash\n",
    "[ -e data-shell ] && echo \"data already exists\" || { wget https://kmichali.github.io/SC-shell-novice/data/data-shell.zip; unzip data-shell.zip; } "
   ]
  },
  {
   "cell_type": "markdown",
   "metadata": {},
   "source": [
    "<hr style=\"border: solid 1px red; margin-top: 1.5% \">"
   ]
  },
  {
   "cell_type": "markdown",
   "metadata": {},
   "source": [
    "In this episode, we will work with the directory **`data-shell/molecules`**."
   ]
  },
  {
   "cell_type": "code",
   "execution_count": null,
   "metadata": {},
   "outputs": [],
   "source": [
    "cd data-shell/molecules"
   ]
  },
  {
   "cell_type": "markdown",
   "metadata": {},
   "source": [
    "## Which molecule is the smallest?\n",
    "<hr style=\"border: solid 1px gray; margin-top: 1.5% \">\n",
    "\n",
    "In this directory, you will find several files that represent small molecules in Protein Data Bank format, a simple text format that specifies the type and position of each atom in the molecule.  Our task for this lesson is to explore the ways to find out which of the molecules is the smallest (has the smallest number of atoms, hence has the smallest number of lines).\n",
    "\n",
    "Let's begin with examining the files.  The commands below lists the pdb files and show the contents of cubane.pdb."
   ]
  },
  {
   "cell_type": "code",
   "execution_count": null,
   "metadata": {},
   "outputs": [],
   "source": [
    "%%bash\n",
    "ls *.pdb\n",
    "cat cubane.pdb"
   ]
  },
  {
   "cell_type": "markdown",
   "metadata": {},
   "source": [
    "## Counting lines\n",
    "<hr style=\"border: solid 1px gray; margin-top: 1.5% \">\n",
    "\n",
    "The command **`wc`** (word count) counts number of lines, words and characters in a file."
   ]
  },
  {
   "cell_type": "code",
   "execution_count": null,
   "metadata": {},
   "outputs": [],
   "source": [
    "%%bash\n",
    "wc cubane.pdb"
   ]
  },
  {
   "cell_type": "markdown",
   "metadata": {},
   "source": [
    "cubane.pdb has 20 lines, 156 words and 1158 characters.  To limit the output to number of lines only, use **`wc -l`**."
   ]
  },
  {
   "cell_type": "code",
   "execution_count": null,
   "metadata": {},
   "outputs": [],
   "source": [
    "%%bash\n",
    "wc -l cubane.pdb"
   ]
  },
  {
   "cell_type": "markdown",
   "metadata": {},
   "source": [
    "We can use a wildcard to count lines in all pdb files at once."
   ]
  },
  {
   "cell_type": "code",
   "execution_count": null,
   "metadata": {},
   "outputs": [],
   "source": [
    "%%bash \n",
    "wc -l *pdb"
   ]
  },
  {
   "cell_type": "markdown",
   "metadata": {},
   "source": [
    "## Sorting\n",
    "<hr style=\"border: solid 1px gray; margin-top: 1.5% \">\n",
    "\n",
    "In this case, we can identify the smallest molecule relatively easily.  However, if we had hundreds of molecules in the same directory, it would be more difficult.  We need to be able to sort the output numerically so the smallest molecule appears at the top.\n",
    "\n",
    "One can sort text or numbers with the **`sort`** command.  The default behaviour for **`sort`** is to sort in alphanumerical order (e.g. any number starting with 1 will come before any number starting with 2).  To sort numerically, use **`sort -n`**.\n",
    "\n",
    "There is a slight problem.  We need to take the output of **`wc -l`** and use it as an input to a **`sort -n`**.  However, the output only exists on the screen and cannot be used for **`sort`**.  Next, we are going to learn two ways of handling this problem.\n",
    "- we are going to capture the output of **`wc -l`** in a new file and use **`sort -n`** on the this file\n",
    "- we are going to use **`wc -l`** and **`sort -n`** together using a powerful utility called \n",
    "\"pipe\"\n"
   ]
  },
  {
   "cell_type": "markdown",
   "metadata": {},
   "source": [
    "## Command output redirection\n",
    "<hr style=\"border: solid 1px gray; margin-top: 1.5% \">\n",
    "\n",
    "Normally, commands print output to the screen.  We can use the symbol **`>`** to redirect this output to a file. The next example takes the output of **`wc -l`** and puts it in a new file (one can choose any name, I call it **`lengths.txt`**).  Note, no output will appear on the screen."
   ]
  },
  {
   "cell_type": "code",
   "execution_count": null,
   "metadata": {},
   "outputs": [],
   "source": [
    "%%bash\n",
    "wc -l *pdb > lengths.txt"
   ]
  },
  {
   "cell_type": "markdown",
   "metadata": {},
   "source": [
    "Check the file lengths.txt with **`cat`**."
   ]
  },
  {
   "cell_type": "code",
   "execution_count": null,
   "metadata": {},
   "outputs": [],
   "source": [
    "%%bash\n",
    "cat lengths.txt"
   ]
  },
  {
   "cell_type": "markdown",
   "metadata": {},
   "source": [
    "- If you use a single **`>`**, a new file will always be made. If a file of the same name exists, it will be\n",
    "overwritten.  \n",
    "\n",
    "\n",
    "- If you use a double **`>>`**, one of two things will happen:\n",
    "  - if a file of the same name exists, it will be appended to\n",
    "  - if a file of the same name does not exitst, a new file will be made"
   ]
  },
  {
   "cell_type": "markdown",
   "metadata": {},
   "source": [
    "## Practice\n",
    "\n",
    "In the next cell, capture the output of the **`ls`** command in a file.  First try with a single **`>`** and then with **`>>`**.  Check the output file with **`cat`**."
   ]
  },
  {
   "cell_type": "code",
   "execution_count": null,
   "metadata": {},
   "outputs": [],
   "source": [
    "%%bash\n",
    "#put your commands here\n"
   ]
  },
  {
   "cell_type": "markdown",
   "metadata": {},
   "source": [
    "## Smallest molecule using output redirection\n",
    "<hr style=\"border: solid 1px gray; margin-top: 1.5% \">\n",
    "\n",
    "The list of commands below finds the smallest molecule with help of output redirection. "
   ]
  },
  {
   "cell_type": "code",
   "execution_count": null,
   "metadata": {},
   "outputs": [],
   "source": [
    "%%bash\n",
    "wc -l *.pdb > lengths.txt\n",
    "sort -n lengths.txt > sorted_lengths.txt\n",
    "cat sorted_lengths.txt"
   ]
  },
  {
   "cell_type": "markdown",
   "metadata": {},
   "source": [
    "We have found the smallest molecule - methane.pdb.  This method works but, as you may have noticed, it requires a temporary file for every step.  If there are more steps in the process, this could get messy very quickly.\n"
   ]
  },
  {
   "cell_type": "markdown",
   "metadata": {},
   "source": [
    "## Smallest molecule using the pipe utility\n",
    "<hr style=\"border: solid 1px gray; margin-top: 1.5% \">\n",
    "\n",
    "Knowing about the output redirection is very useful but our problem is best served by the **pipe** utility. If the pipe symbol **`|`** is placed between two commands on the same line, it means that the output of the first one is directly \"piped\" as an input to the next command.  One can use many pipes on the same line.\n",
    "\n",
    "This utility is very powerful; it lets us combine simple commands into useful pipelines.  This is very much the essence of the command line philosophy - provide relatively simple building blocks that can be combined to achieve complex outcomes."
   ]
  },
  {
   "cell_type": "markdown",
   "metadata": {},
   "source": [
    "### How many files\n",
    "\n",
    "I use the pipe very often for counting files.  If you deal with lots data, a frequently asked question is \"How many data files are in this directory?\"\n",
    "\n",
    "The example below, one of the most common pipe expression, answers this question."
   ]
  },
  {
   "cell_type": "code",
   "execution_count": null,
   "metadata": {},
   "outputs": [],
   "source": [
    "%%bash \n",
    "ls -l *.pdb | wc -l"
   ]
  },
  {
   "cell_type": "markdown",
   "metadata": {},
   "source": [
    "Now back to our task, the cell below shows the pipe sequence that reproduces the commands in the cell above and finds the smallest molecule."
   ]
  },
  {
   "cell_type": "code",
   "execution_count": null,
   "metadata": {},
   "outputs": [],
   "source": [
    "%%bash\n",
    "wc -l *pdb | sort -n "
   ]
  },
  {
   "cell_type": "markdown",
   "metadata": {},
   "source": [
    "Let's imagine that the list of molecules is very long and it is not practical to view the whole output.  We can easily add another command that displays only the first line - **`head -n 1`**."
   ]
  },
  {
   "cell_type": "code",
   "execution_count": null,
   "metadata": {},
   "outputs": [],
   "source": [
    "%%bash\n",
    "wc -l *pdb | sort -n | head -n 1 "
   ]
  },
  {
   "cell_type": "markdown",
   "metadata": {},
   "source": [
    "Please note that only the first command of the pipe requires an argument (in our case, **`*.pdb`**).  The rest of the commands have no arguments as they operate on the output of the previous command."
   ]
  },
  {
   "cell_type": "markdown",
   "metadata": {},
   "source": [
    "## New commands\n",
    "<hr style=\"border: solid 1px gray; margin-top: 1.5% \">\n",
    "\n",
    "In this episode, we have learned about **`wc`**, **`sort`**, **`head`**.  These commands can be loosely qualified as \"filters\", they act on a stream of input and transform it into a stream of output.  \n",
    "\n",
    "Let's add a few more commands.\n",
    "\n",
    "- The counterpart of **`head`** is **`tail`**; it shows a specified number of lines from the end of a file; for example **`tail -n 3 lengths.txt`** will return the last three lines from lengths.txt.\n",
    "\n",
    "- The **`sort`** command is often combined with **`uniq`**; for example **`sort test.txt | uniq`** will sort the file test.txt and remove all duplicate lines. If you want to see the original line counts, use **`sort test.txt | uniq -c`**.  Note that **`uniq`** will not work on a file that is not sorted.  \n",
    "\n",
    "- The **`cut`** command is useful when handling tabular data, it \"cuts\" columns out using a separator; for example **`cut -d , -f 1 mytable.csv`** will return the first column from the comma-delimited file mytable.csv (the flag -d is for delimiter and -f is for the column number)."
   ]
  },
  {
   "cell_type": "markdown",
   "metadata": {},
   "source": [
    "## Exercise 1\n",
    "<hr style=\"border: solid 1px gray; margin-top: 1.5% \">\n",
    "\n",
    "Switch the current working directory to **`data-shell/data`** and have a look at the file **`animals.txt`**.  It is a comma-delimited file. The needed commands are provided in the next two cells."
   ]
  },
  {
   "cell_type": "code",
   "execution_count": null,
   "metadata": {},
   "outputs": [],
   "source": [
    "cd ../data/"
   ]
  },
  {
   "cell_type": "code",
   "execution_count": null,
   "metadata": {},
   "outputs": [],
   "source": [
    "%%bash\n",
    "cat animals.txt"
   ]
  },
  {
   "cell_type": "markdown",
   "metadata": {},
   "source": [
    "The file above logs sightings of wild animals.  Let's use **`cut`** to get the second column (animal names) from the **`animals.txt`**."
   ]
  },
  {
   "cell_type": "code",
   "execution_count": null,
   "metadata": {},
   "outputs": [],
   "source": [
    "%%bash\n",
    "cut -d , -f 2 animals.txt "
   ]
  },
  {
   "cell_type": "markdown",
   "metadata": {},
   "source": [
    "Your task is to find out an unique list of animals and how many times they were spotted. Which of the following pipes will do the job?\n",
    "\n",
    "```\n",
    "1. sort animals.txt | uniq -c\n",
    "2. sort -t, -k2 animals.txt | uniq -c\n",
    "3. cut -d , -f 2 animals.txt | uniq -c\n",
    "4. cut -d , -f 2 animals.txt | sort | uniq -c\n",
    "5. cut -d , -f 2 animals.txt | sort | uniq -c | wc -l\n",
    "\n",
    "```\n",
    "\n",
    "Solution can be found at the end of this notebook."
   ]
  },
  {
   "cell_type": "markdown",
   "metadata": {},
   "source": [
    "<hr style=\"border: solid 1px red; margin-top: 1.5% \">\n",
    "\n",
    "## Key points\n",
    "\n",
    "- **`cat`** displays the contents of its inputs.\n",
    "- **`head`** displays the first 10 lines of its input.\n",
    "- **`tail`** displays the last 10 lines of its input.\n",
    "- **`sort`** sorts its inputs.\n",
    "- **`wc`** counts lines, words, and characters in its inputs.\n",
    "- **`command > file`** redirects a command’s output to a file (overwriting any existing content).\n",
    "- **`command >> file`** appends a command’s output to a file.\n",
    "- **`first | second`** is a pipeline: the output of the first command is used as the input to the second.\n",
    "- The best way to use the shell is to use pipes to combine simple single-purpose programs (filters)."
   ]
  },
  {
   "cell_type": "markdown",
   "metadata": {},
   "source": [
    "<hr style=\"border: solid 1px gray; margin-top: 1.5% \">\n",
    "\n",
    "### Solution to Exercise 1:\n",
    "\n",
    "Option 4. is the correct answer. If you have difficulty understanding why, try running the commands, or sub-sections of the pipelines (make sure you are in the data-shell/data directory)."
   ]
  }
 ],
 "metadata": {
  "kernelspec": {
   "display_name": "Python 3 (ipykernel)",
   "language": "python",
   "name": "python3"
  },
  "language_info": {
   "codemirror_mode": {
    "name": "ipython",
    "version": 3
   },
   "file_extension": ".py",
   "mimetype": "text/x-python",
   "name": "python",
   "nbconvert_exporter": "python",
   "pygments_lexer": "ipython3",
   "version": "3.12.4"
  }
 },
 "nbformat": 4,
 "nbformat_minor": 4
}
