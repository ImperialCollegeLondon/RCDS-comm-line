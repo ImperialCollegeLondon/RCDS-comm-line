{
 "cells": [
  {
   "cell_type": "markdown",
   "metadata": {},
   "source": [
    "# Episode 3 - Working with Files and Directories\n",
    "This notebook is based on a snapshot of [Episode 3](https://kmichali.github.io/SC-shell-novice/03-create/index.html) of the [Unix Shell lesson](https://kmichali.github.io/SC-shell-novice/) from the [Software Carpentry](https://software-carpentry.org). The original material has more detail.\n",
    "\n",
    "### Questions:\n",
    "- How can I create, copy, rename and delete files and directories?\n",
    "\n",
    "### Objectives:\n",
    "- Create new files and directories\n",
    "- Copy file and move files and directories\n",
    "- Use delete safely\n",
    "\n",
    "<hr style=\"border: solid 1px red; margin-top: 1.5% \">\n",
    "\n",
    "### Video\n",
    "Learn with video:\n",
    "- [part 1](https://imperial.cloud.panopto.eu/Panopto/Pages/Viewer.aspx?id=94a14b5d-dad4-49f9-9fd2-abd50118f1b2)\n",
    "- [part 2](https://imperial.cloud.panopto.eu/Panopto/Pages/Viewer.aspx?id=450d3756-0838-473f-82e1-abd5011eb442)\n",
    "\n",
    "### Practice data in Google Colab\n",
    "If you are viewing this notebook in Colab and have saved it in your Drive (\"File\"->\"Save a copy in Drive\"), run the cell below to download practice data.\n"
   ]
  },
  {
   "cell_type": "code",
   "execution_count": null,
   "metadata": {},
   "outputs": [],
   "source": [
    "%%bash\n",
    "[ -e data-shell ] && echo \"data already exists\" || { wget https://kmichali.github.io/SC-shell-novice/data/data-shell.zip; unzip data-shell.zip; } "
   ]
  },
  {
   "cell_type": "markdown",
   "metadata": {},
   "source": [
    "<hr style=\"border: solid 1px red; margin-top: 1.5% \">"
   ]
  },
  {
   "cell_type": "markdown",
   "metadata": {},
   "source": [
    "If you just opened this notebook, your current directory is most likely to be **`somewhere_in_your_filesystem/GS_comm_line/notebooks`**. Let's start by changing directory to **`data-shell`**.  \n",
    "\n",
    "Note: This time, we will skip the %%bash magic command so the new current working directory persists."
   ]
  },
  {
   "cell_type": "code",
   "execution_count": null,
   "metadata": {},
   "outputs": [],
   "source": [
    "%%bash\n",
    "pwd"
   ]
  },
  {
   "cell_type": "code",
   "execution_count": null,
   "metadata": {},
   "outputs": [],
   "source": [
    "cd data-shell"
   ]
  },
  {
   "cell_type": "markdown",
   "metadata": {},
   "source": [
    "\n",
    "\n",
    "## Make a new directory\n",
    "<hr style=\"border: solid 1px gray; margin-top: 1.5% \">\n",
    "\n",
    "Let’s create a new directory called thesis using the command **`mkdir thesis`**. This command produces no output, so we have to check with **`ls`**.\n"
   ]
  },
  {
   "cell_type": "code",
   "execution_count": null,
   "metadata": {},
   "outputs": [],
   "source": [
    "%%bash \n",
    "mkdir thesis\n",
    "ls -F"
   ]
  },
  {
   "cell_type": "markdown",
   "metadata": {},
   "source": [
    "Change working directory to **`thesis`**."
   ]
  },
  {
   "cell_type": "code",
   "execution_count": null,
   "metadata": {},
   "outputs": [],
   "source": [
    "cd thesis"
   ]
  },
  {
   "cell_type": "markdown",
   "metadata": {
    "collapsed": true,
    "jupyter": {
     "outputs_hidden": true
    }
   },
   "source": [
    "\n",
    "## Two ways of doing  the same thing\n",
    "\n",
    "On your laptop, you can make a new directory (or folder) using a file explorer (File Explorer or Finder). This directory will appear on the command line as well.  Conversely, if you make a new directory with **`mkdir`**, you will see it in the file explorer."
   ]
  },
  {
   "cell_type": "markdown",
   "metadata": {},
   "source": [
    "\n",
    "## Good names for files and directories\n",
    "\n",
    "\n",
    "Complicated names of files and directories can make your life painful when working on the command line. Here we provide a few useful tips for the names of your files.\n",
    "\n",
    "- **Don’t use spaces.**\n",
    "\n",
    "Spaces are used to separate arguments on the command line it is better to avoid them in names of files and directories. You can use **`-`** or **`_`** instead (e.g. **`north-pacific-gyre/`** rather than **`north pacific gyre/`**).\n",
    "\n",
    "- **Don’t begin the name with `-`(dash).**\n",
    "\n",
    "Commands treat names starting with **`-`** as flags.\n",
    "\n",
    "- **Stick with letters, numbers, `.` (period or ‘full stop’), `-` (dash) and `_` (underscore).**\n",
    "\n",
    "Many other characters have special meanings on the command line and cause your command to not work as expected and can even result in data loss.\n",
    "\n",
    "\n",
    "If you need to refer to names of files or directories that have spaces or other special characters, you should surround the name in quotes.\n"
   ]
  },
  {
   "cell_type": "markdown",
   "metadata": {},
   "source": [
    "\n",
    "## Creating files\n",
    "<hr style=\"border: solid 1px gray; margin-top: 1.5% \">\n",
    "\n",
    "The **`thesis`** directory is empty. Let's create an empty file called **`draft.txt`** with **`touch`**.\n",
    "\n",
    "Use **`ls -lh`** to see the file and note the file is empty."
   ]
  },
  {
   "cell_type": "code",
   "execution_count": null,
   "metadata": {},
   "outputs": [],
   "source": [
    "%%bash\n",
    "touch draft.txt\n",
    "ls -lh"
   ]
  },
  {
   "cell_type": "markdown",
   "metadata": {},
   "source": [
    "\n",
    "## Editing a file\n",
    "\n",
    "Later, we will learn about a simple text editor **`nano`** for the command line.  For now, we'll use **`echo`** (similar to print) to add a bit of text to **`draft.txt`**.\n",
    "\n",
    "We can show the file content with **`cat`** (catalogue)."
   ]
  },
  {
   "cell_type": "code",
   "execution_count": null,
   "metadata": {},
   "outputs": [],
   "source": [
    "%%bash\n",
    "echo \"It is not publish or perish, it is share and thrive.\" > draft.txt\n",
    "cat draft.txt"
   ]
  },
  {
   "cell_type": "markdown",
   "metadata": {},
   "source": [
    "## Practice\n",
    "\n",
    "In the cell below, make another empty file **`notes.txt`**."
   ]
  },
  {
   "cell_type": "code",
   "execution_count": null,
   "metadata": {},
   "outputs": [],
   "source": [
    "%%bash\n",
    "# add your command here\n",
    "\n",
    "ls "
   ]
  },
  {
   "cell_type": "markdown",
   "metadata": {},
   "source": [
    "## File extensions\n",
    "\n",
    "We named the file **`.txt`**.  This is called the **filename extension**.  It does not change the file but it is a good convention and helps us keep different types of files apart."
   ]
  },
  {
   "cell_type": "markdown",
   "metadata": {},
   "source": [
    "## Moving and renaming files and directories\n",
    "<hr style=\"border: solid 1px gray; margin-top: 1.5% \">\n",
    "\n",
    "Files can be renamed and moved between directories.\n",
    "\n",
    "In the next example **`mv draft.txt quotes.txt`**, the command **`mv`** (move) will rename **`draft.txt`** to **`quotes.txt`**.  The command produces no output, and **`ls`** will show that there is only one file **`quotes.txt`** in the current directory."
   ]
  },
  {
   "cell_type": "code",
   "execution_count": null,
   "metadata": {},
   "outputs": [],
   "source": [
    "%%bash\n",
    "mv draft.txt quotes.txt\n",
    "ls"
   ]
  },
  {
   "cell_type": "markdown",
   "metadata": {},
   "source": [
    "The command takes two arguments - **target filename and destination**.  These can include directory names as well. In the next example, we'll return to the **`data-shell`** directory and then rename **`quotes.txt`** back to **`draft.txt`** using the relative paths to specify target file and destination."
   ]
  },
  {
   "cell_type": "code",
   "execution_count": null,
   "metadata": {},
   "outputs": [],
   "source": [
    "cd ../"
   ]
  },
  {
   "cell_type": "code",
   "execution_count": null,
   "metadata": {},
   "outputs": [],
   "source": [
    "%%bash \n",
    "mv thesis/quotes.txt thesis/draft.txt \n",
    "ls thesis"
   ]
  },
  {
   "cell_type": "markdown",
   "metadata": {},
   "source": [
    "In the next example, we'll move **`draft.txt`** to **`data-shell`** (that is the current working directory)."
   ]
  },
  {
   "cell_type": "code",
   "execution_count": null,
   "metadata": {},
   "outputs": [],
   "source": [
    "%%bash \n",
    "mv thesis/draft.txt .\n",
    "ls draft.txt"
   ]
  },
  {
   "cell_type": "markdown",
   "metadata": {},
   "source": [
    "The move command can be used with more than two arguments if the last argument specifies a directory."
   ]
  },
  {
   "cell_type": "markdown",
   "metadata": {},
   "source": [
    "## Exercise 1\n",
    "<hr style=\"border: solid 1px gray; margin-top: 1.5% \">\n",
    "\n",
    "After running the following commands, Jamie realizes that she put the files sucrose.dat and maltose.dat into the wrong folder. The files should have been placed in the raw folder.\n",
    "\n",
    "```\n",
    "$ ls -F\n",
    " analyzed/ raw/\n",
    "$ ls -F analyzed\n",
    "fructose.dat glucose.dat maltose.dat sucrose.dat\n",
    "$ cd analyzed\n",
    "```\n",
    "\n",
    "Fill in the blanks to move these files to the raw/ folder (i.e. the one she forgot to put them in).\n",
    "\n",
    "```\n",
    "$ mv sucrose.dat maltose.dat __/__\n",
    "```\n",
    "\n",
    "Solution can be found at the end of this notebook.\n"
   ]
  },
  {
   "cell_type": "markdown",
   "metadata": {},
   "source": [
    "## Copying files and directories\n",
    "<hr style=\"border: solid 1px gray; margin-top: 1.5% \">\n",
    "\n",
    "The **`cp`** (copy) command works similarly to  **`mv`** except it makes a copy of a file instead of moving it.  The following exaple takes  **`draft.txt`** and makes a copy in  **`thesis`** under a new name  **`initial_draft.txt`**."
   ]
  },
  {
   "cell_type": "code",
   "execution_count": null,
   "metadata": {},
   "outputs": [],
   "source": [
    "%%bash\n",
    "cp draft.txt thesis/initial_draft.txt\n",
    "ls thesis"
   ]
  },
  {
   "cell_type": "markdown",
   "metadata": {},
   "source": [
    "It is possible to copy a directory and its contents by using  **`cp`** with a recursive flag  **`cp -r`**.  The following example makes a copy of  **`thesis`** and its contents under a new name  **`thesis_backup`**."
   ]
  },
  {
   "cell_type": "code",
   "execution_count": null,
   "metadata": {},
   "outputs": [],
   "source": [
    "%%bash\n",
    "cp -r thesis thesis_backup\n",
    "ls thesis thesis_backup/"
   ]
  },
  {
   "cell_type": "markdown",
   "metadata": {},
   "source": [
    "## Exercise 2\n",
    "<hr style=\"border: solid 1px gray; margin-top: 1.5% \">\n",
    "\n",
    "Suppose that you created a plain-text file in your current directory to contain a list of the statistical tests you will need to do to analyze your data, and named it: statstics.txt\n",
    "\n",
    "After creating and saving this file you realize you misspelled the filename! You want to correct the mistake, which of the following commands could you use to do so?\n",
    "\n",
    "1. **`cp statstics.txt statistics.txt`**\n",
    "1. **`mv statstics.txt statistics.txt`**\n",
    "1. **`mv statstics.txt .`**\n",
    "1. **`cp statstics.txt .`**\n",
    "\n",
    "Solution can be found at the end of this notebook."
   ]
  },
  {
   "cell_type": "markdown",
   "metadata": {},
   "source": [
    "## Exercise 3\n",
    "<hr style=\"border: solid 1px gray; margin-top: 1.5% \">\n",
    "\n",
    "What is the output of the closing ls command in the sequence shown below?  To start with, the current directory is **`Users/jamie/data`** and it contains one file **`proteins.dat`**.\n",
    "\n",
    "```\n",
    "$ mkdir recombine\n",
    "$ mv proteins.dat recombine/\n",
    "$ cp recombine/proteins.dat ../proteins-saved.dat\n",
    "$ ls\n",
    "\n",
    "```\n",
    "What is the output of the command sequence above?\n",
    "\n",
    "1. **`proteins-saved.dat recombine`**\n",
    "2. **`recombine`**\n",
    "3. **`proteins.dat recombine`**\n",
    "4. **`proteins-saved.dat`**\n",
    "\n",
    "Solution can be found at the end of this notebook."
   ]
  },
  {
   "cell_type": "markdown",
   "metadata": {},
   "source": [
    "## Removing files and directories\n",
    "<hr style=\"border: solid 1px gray; margin-top: 1.5% \">\n",
    "\n",
    "The **`rm`** (remove) command removes files and directories permanently.  There is no easy way of recovering a file that has been deleted with **`rm`**.\n",
    "\n",
    "Let's delete **`draft.txt`** from the current directory."
   ]
  },
  {
   "cell_type": "code",
   "execution_count": null,
   "metadata": {},
   "outputs": [],
   "source": [
    "%%bash\n",
    "rm draft.txt\n",
    "ls -F"
   ]
  },
  {
   "cell_type": "markdown",
   "metadata": {},
   "source": [
    "A directory that is not empty can be removed with recursive **`rm`**.  To remove **`thesis_backup`** in the current directory use:"
   ]
  },
  {
   "cell_type": "code",
   "execution_count": null,
   "metadata": {},
   "outputs": [],
   "source": [
    "%%bash\n",
    "rm -r thesis_backup\n",
    "ls -F"
   ]
  },
  {
   "cell_type": "markdown",
   "metadata": {},
   "source": [
    "## Use rm with caution\n",
    "\n",
    "You can appreciate that the **`rm`** command, if used incorrectly, could cause some damage.  Using **`rm -i`** i.e. in an interactive mode, may be a good idea.  You will be asked to confirm each delete step."
   ]
  },
  {
   "cell_type": "markdown",
   "metadata": {},
   "source": [
    "## Wildcards\n",
    "<hr style=\"border: solid 1px gray; margin-top: 1.5% \">\n",
    "\n",
    "**`*`** is a wildcard, which matches zero or more characters. Let’s consider the **`data-shell/molecules`** directory: **`*.pdb`** matches ethane.pdb, propane.pdb, and every file that ends with ‘.pdb’. On the other hand, **`p*.pdb`** only matches pentane.pdb and propane.pdb, because the ‘p’ at the front only matches filenames that begin with the letter ‘p’.\n",
    "\n",
    "**`?`** is also a wildcard, but it matches exactly one character. So **`?ethane.pdb`** would match methane.pdb whereas *ethane.pdb matches both ethane.pdb, and methane.pdb.\n",
    "\n",
    "Wildcards can be used in combination with each other e.g. **`???ane.pdb`** matches three characters followed by ane.pdb, giving cubane.pdb ethane.pdb octane.pdb.\n",
    "\n",
    "When the shell sees a wildcard, it expands the wildcard to create a list of matching filenames before running the command that was asked for. As an exception, if a wildcard expression does not match any file, Bash will pass the expression as an argument to the command as it is. For example typing **`ls *.pdf`** in the molecules directory (which contains only files with names ending with .pdb) results in an error message that there is no file called *.pdf."
   ]
  },
  {
   "cell_type": "code",
   "execution_count": null,
   "metadata": {},
   "outputs": [],
   "source": [
    "cd molecules"
   ]
  },
  {
   "cell_type": "code",
   "execution_count": null,
   "metadata": {},
   "outputs": [],
   "source": [
    "%%bash\n",
    "ls *.pdb"
   ]
  },
  {
   "cell_type": "code",
   "execution_count": null,
   "metadata": {},
   "outputs": [],
   "source": [
    "%%bash\n",
    "ls p*.pdb"
   ]
  },
  {
   "cell_type": "markdown",
   "metadata": {},
   "source": [
    "<hr style=\"border: solid 1px red; margin-top: 1.5% \">\n",
    "\n",
    "## Key points\n",
    "\n",
    "- **`cp`** old new copies a file.\n",
    "- **`mkdir`** path creates a new directory.\n",
    "- **`mv old new`** moves (renames) a file or directory.\n",
    "- **`rm path`** removes (deletes) a file.\n",
    "- **`*`** matches zero or more characters in a filename, so *.txt matches all files ending in .txt.\n",
    "- **`?`** matches any single character in a filename, so ?.txt matches a.txt but not any.txt.\n",
    "- The shell does not have a trash bin: once something is deleted, it’s really gone.\n",
    "- Most files’ names are something.extension. The extension isn’t required, and doesn’t guarantee anything, but is normally used to indicate the type of data in the file.\n"
   ]
  },
  {
   "cell_type": "markdown",
   "metadata": {},
   "source": [
    "<hr style=\"border: solid 1px gray; margin-top: 1.5% \">\n",
    "\n",
    "### Solution to Exercise 1:\n",
    "```\n",
    "$ mv sucrose.dat maltose.dat ../raw\n",
    "```"
   ]
  },
  {
   "cell_type": "markdown",
   "metadata": {},
   "source": [
    "\n",
    "\n",
    "### Solution to Exercise 2:\n",
    "1. No. While this would create a file with the correct name, the incorrectly named file still exists in the directory and would need to be deleted.\n",
    "2. Yes, this would work to rename the file.\n",
    "3. No, the period(.) indicates where to move the file, but does not provide a new file name; identical file names cannot be created.\n",
    "4. No, the period(.) indicates where to copy the file, but does not provide a new file name; identical file names cannot be created.\n",
    "\n",
    "\n"
   ]
  },
  {
   "cell_type": "markdown",
   "metadata": {},
   "source": [
    "### Solution to Exercise 3:\n",
    "\n",
    "We start in the /Users/jamie/data directory, and create a new folder called recombine. The second line moves (mv) the file proteins.dat to the new folder (recombine). The third line makes a copy of the file we just moved. The tricky part here is where the file was copied to. Recall that .. means ‘go up a level’, so the copied file is now in /Users/jamie. Notice that .. is interpreted with respect to the current working directory, not with respect to the location of the file being copied. So, the only thing that will show using ls (in /Users/jamie/data) is the recombine folder.\n",
    "\n",
    "\n",
    "1. No, see explanation above. proteins-saved.dat is located at /Users/jamie\n",
    "2. Yes\n",
    "3. No, see explanation above. proteins.dat is located at /Users/jamie/data/recombine\n",
    "4. No, see explanation above. proteins-saved.dat is located at /Users/jamie"
   ]
  }
 ],
 "metadata": {
  "kernelspec": {
   "display_name": "Python 3 (ipykernel)",
   "language": "python",
   "name": "python3"
  },
  "language_info": {
   "codemirror_mode": {
    "name": "ipython",
    "version": 3
   },
   "file_extension": ".py",
   "mimetype": "text/x-python",
   "name": "python",
   "nbconvert_exporter": "python",
   "pygments_lexer": "ipython3",
   "version": "3.12.4"
  }
 },
 "nbformat": 4,
 "nbformat_minor": 4
}
